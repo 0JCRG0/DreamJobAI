{
 "cells": [
  {
   "cell_type": "code",
   "execution_count": 8,
   "metadata": {},
   "outputs": [],
   "source": [
    "import pandas as pd\n",
    "import pyarrow as pa\n",
    "import pyarrow.parquet as pq"
   ]
  },
  {
   "cell_type": "code",
   "execution_count": 11,
   "metadata": {},
   "outputs": [],
   "source": [
    "df = pd.read_parquet(\"/Users/juanreyesgarcia/Library/CloudStorage/OneDrive-FundacionUniversidaddelasAmericasPuebla/DEVELOPER/PROJECTS/DreamedJobAI/data/e5_base_v2_embeddings.parquet\")\n",
    "df2 = pd.read_parquet(\"/Users/juanreyesgarcia/Library/CloudStorage/OneDrive-FundacionUniversidaddelasAmericasPuebla/DEVELOPER/PROJECTS/DreamedJobAI/data/openai_embedding.parquet\")\n",
    "appended_openai = pd.read_parquet(\"/Users/juanreyesgarcia/Library/CloudStorage/OneDrive-FundacionUniversidaddelasAmericasPuebla/DEVELOPER/PROJECTS/DreamedJobAI/data/appended_openai.parquet\")\n",
    "test_e5 = pd.read_parquet(\"/Users/juanreyesgarcia/Library/CloudStorage/OneDrive-FundacionUniversidaddelasAmericasPuebla/DEVELOPER/PROJECTS/DreamedJobAI/data/test_e5_base.parquet\")\n",
    "e5_df = pd.read_parquet(\"/Users/juanreyesgarcia/Library/CloudStorage/OneDrive-FundacionUniversidaddelasAmericasPuebla/DEVELOPER/PROJECTS/DreamedJobAI/data/e5_base_all.parquet\")"
   ]
  },
  {
   "cell_type": "code",
   "execution_count": 6,
   "metadata": {},
   "outputs": [
    {
     "name": "stdout",
     "output_type": "stream",
     "text": [
      "          ids                                          text_data  \\\n",
      "count      27                                                 27   \n",
      "unique     27                                                 27   \n",
      "top     40768  passage: Director of Product Management India ...   \n",
      "freq        1                                                  1   \n",
      "\n",
      "                                               embeddings  \n",
      "count                                                  27  \n",
      "unique                                                 27  \n",
      "top     [-0.41836202, -0.17529283, -0.7040477, 0.22002...  \n",
      "freq                                                    1  \n"
     ]
    }
   ],
   "source": [
    "print(test_e5.describe())"
   ]
  },
  {
   "cell_type": "code",
   "execution_count": 12,
   "metadata": {},
   "outputs": [
    {
     "name": "stdout",
     "output_type": "stream",
     "text": [
      "          ids                                text_data  \\\n",
      "count    1250                                     1250   \n",
      "unique   1250                                     1156   \n",
      "top     40768  passage: Advertise your brand here  NaN   \n",
      "freq        1                                       48   \n",
      "\n",
      "                                               embeddings  \n",
      "count                                                1250  \n",
      "unique                                               1250  \n",
      "top     [-0.41836202, -0.17529283, -0.7040477, 0.22002...  \n",
      "freq                                                    1  \n"
     ]
    }
   ],
   "source": [
    "print(e5_df.describe())"
   ]
  },
  {
   "cell_type": "code",
   "execution_count": 7,
   "metadata": {},
   "outputs": [
    {
     "name": "stdout",
     "output_type": "stream",
     "text": [
      "          ids                                text_data  \\\n",
      "count    1223                                     1223   \n",
      "unique   1223                                     1129   \n",
      "top     33143  passage: Advertise your brand here  NaN   \n",
      "freq        1                                       48   \n",
      "\n",
      "                                               embeddings  \n",
      "count                                                1223  \n",
      "unique                                               1223  \n",
      "top     [-0.2953347, 0.24684097, -0.27876157, -0.14112...  \n",
      "freq                                                    1  \n"
     ]
    }
   ],
   "source": [
    "#print(df2.head())\n",
    "print(df.describe())"
   ]
  },
  {
   "cell_type": "code",
   "execution_count": 7,
   "metadata": {},
   "outputs": [
    {
     "name": "stdout",
     "output_type": "stream",
     "text": [
      "Parquet file copied from /Users/juanreyesgarcia/Library/CloudStorage/OneDrive-FundacionUniversidaddelasAmericasPuebla/DEVELOPER/PROJECTS/DreamedJobAI/data/e5_base_v2_embeddings.parquet to /Users/juanreyesgarcia/Library/CloudStorage/OneDrive-FundacionUniversidaddelasAmericasPuebla/DEVELOPER/PROJECTS/DreamedJobAI/data/copy_e5_base.parquet\n"
     ]
    }
   ],
   "source": [
    "import shutil\n",
    "\n",
    "def copy_parquet_file(source_file, destination_file):\n",
    "    shutil.copy2(source_file, destination_file)\n",
    "    print(f\"Parquet file copied from {source_file} to {destination_file}\")\n",
    "\n",
    "# Example usage\n",
    "source_file = '/Users/juanreyesgarcia/Library/CloudStorage/OneDrive-FundacionUniversidaddelasAmericasPuebla/DEVELOPER/PROJECTS/DreamedJobAI/data/e5_base_v2_embeddings.parquet'\n",
    "destination_file = '/Users/juanreyesgarcia/Library/CloudStorage/OneDrive-FundacionUniversidaddelasAmericasPuebla/DEVELOPER/PROJECTS/DreamedJobAI/data/copy_e5_base.parquet'\n",
    "\n",
    "copy_parquet_file(source_file, destination_file)\n"
   ]
  },
  {
   "cell_type": "code",
   "execution_count": 10,
   "metadata": {},
   "outputs": [],
   "source": [
    "\n",
    "\n",
    "def append_parquet_files(file_x, file_y, output_file):\n",
    "    # Read the Parquet files\n",
    "    table_x = pq.read_table(file_x)\n",
    "    table_y = pq.read_table(file_y)\n",
    "    \n",
    "    # Append the tables\n",
    "    appended_table = pa.concat_tables([table_x, table_y])\n",
    "    \n",
    "    # Write the appended table to a new Parquet file\n",
    "    pq.write_table(appended_table, output_file)\n",
    "\n",
    "# Example usage\n",
    "file_x = '/Users/juanreyesgarcia/Library/CloudStorage/OneDrive-FundacionUniversidaddelasAmericasPuebla/DEVELOPER/PROJECTS/DreamedJobAI/data/test_e5_base.parquet'\n",
    "file_y = '/Users/juanreyesgarcia/Library/CloudStorage/OneDrive-FundacionUniversidaddelasAmericasPuebla/DEVELOPER/PROJECTS/DreamedJobAI/data/e5_base_v2_embeddings.parquet'\n",
    "output_file = '/Users/juanreyesgarcia/Library/CloudStorage/OneDrive-FundacionUniversidaddelasAmericasPuebla/DEVELOPER/PROJECTS/DreamedJobAI/data/e5_base_all.parquet'\n",
    "\n",
    "append_parquet_files(file_x, file_y, output_file)\n"
   ]
  }
 ],
 "metadata": {
  "kernelspec": {
   "display_name": "E5",
   "language": "python",
   "name": "python3"
  },
  "language_info": {
   "codemirror_mode": {
    "name": "ipython",
    "version": 3
   },
   "file_extension": ".py",
   "mimetype": "text/x-python",
   "name": "python",
   "nbconvert_exporter": "python",
   "pygments_lexer": "ipython3",
   "version": "3.11.3"
  },
  "orig_nbformat": 4
 },
 "nbformat": 4,
 "nbformat_minor": 2
}
