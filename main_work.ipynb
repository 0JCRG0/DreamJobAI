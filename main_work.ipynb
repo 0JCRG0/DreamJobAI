{
 "cells": [
  {
   "cell_type": "code",
   "execution_count": 61,
   "metadata": {},
   "outputs": [],
   "source": [
    "import os\n",
    "import openai\n",
    "import pandas as pd\n",
    "import tiktoken  # for counting tokens\n",
    "import ast  # for converting embeddings saved as strings back to arrays\n",
    "from scipy import spatial\n",
    "import pretty_errors\n",
    "from preprocess import individual_preprocess\n",
    "from displayfunction import display\n",
    "from dotenv import load_dotenv"
   ]
  },
  {
   "cell_type": "code",
   "execution_count": 62,
   "metadata": {},
   "outputs": [],
   "source": [
    "\n",
    "load_dotenv('.env')\n",
    "openai.api_key = os.getenv(\"OPENAI_API_KEY\")\n",
    "SAVE_PATH = os.getenv(\"SAVE_PATH\")\n",
    "\n",
    "# models\n",
    "EMBEDDING_MODEL = \"text-embedding-ada-002\"\n",
    "#GPT_MODEL = \"gpt-3.5-turbo\"\n",
    "GPT_MODEL = \"gpt-4\"\n",
    "\n",
    "\"\"\"\n",
    "Load the embedded file\n",
    "\"\"\"\n",
    "\n",
    "embeddings_path = SAVE_PATH + \"/jobs_test5.csv\"\n",
    "\n",
    "df = pd.read_csv(embeddings_path)\n",
    "\n",
    "# convert embeddings from CSV str type back to list type\n",
    "df['embedding'] = df['embedding'].apply(ast.literal_eval)"
   ]
  },
  {
   "attachments": {},
   "cell_type": "markdown",
   "metadata": {},
   "source": [
    "\"\"\"\n",
    "## 2. Search\n",
    "\n",
    "Now we'll define a search function that:\n",
    "- Takes a user query and a dataframe with text & embedding columns\n",
    "- Embeds the user query with the OpenAI API\n",
    "- Uses distance between query embedding and text embeddings to rank the texts\n",
    "- Returns two lists:\n",
    "    - The top N texts, ranked by relevance\n",
    "    - Their corresponding relevance scores\n",
    "\n",
    "\"\"\""
   ]
  },
  {
   "cell_type": "code",
   "execution_count": 63,
   "metadata": {},
   "outputs": [],
   "source": [
    "\n",
    "# search function\n",
    "def ids_ranked_by_relatedness(\n",
    "    query: str,\n",
    "    df: pd.DataFrame,\n",
    "    relatedness_fn=lambda x, y: 1 - spatial.distance.cosine(x, y),\n",
    "    #Modify this to get more jobs\n",
    "    top_n: int = 15\n",
    ") -> tuple[list[str], list[float]]:\n",
    "\n",
    "    \"\"\"Returns a list of strings and relatednesses, sorted from most related to least.\"\"\"\n",
    "    \n",
    "    query_preprocess = individual_preprocess(query)\n",
    "    query_embedding_response = openai.Embedding.create(\n",
    "        model=EMBEDDING_MODEL,\n",
    "        input=query_preprocess,\n",
    "    )\n",
    "    #This is the query (e.g., Data Engineer) that the model will find relatednessnes\n",
    "    query_embedding = query_embedding_response[\"data\"][0][\"embedding\"]\n",
    "    ids_and_relatednesses = [\n",
    "        (row[\"id\"], relatedness_fn(query_embedding, row[\"embedding\"]))\n",
    "        for i, row in df.iterrows()\n",
    "    ]\n",
    "    ids_and_relatednesses.sort(key=lambda x: x[1], reverse=True)\n",
    "    ids, relatednesses = zip(*ids_and_relatednesses)\n",
    "    return ids[:top_n], relatednesses[:top_n]\n"
   ]
  },
  {
   "cell_type": "code",
   "execution_count": 64,
   "metadata": {},
   "outputs": [],
   "source": [
    "#tiktoken function -> to count tokens\n",
    "def num_tokens(text: str, model: str = GPT_MODEL) -> int:\n",
    "    \"\"\"Return the number of tokens in a string.\"\"\"\n",
    "    encoding = tiktoken.encoding_for_model(model)\n",
    "    return len(encoding.encode(text))"
   ]
  },
  {
   "cell_type": "code",
   "execution_count": 65,
   "metadata": {},
   "outputs": [],
   "source": [
    "introduction_prompt = \"\"\"\n",
    "\n",
    "To assist you, here are the job IDs and the respective job descriptions ranked by relatedness to the user's specifications.\n",
    "Review these jobs and output the ID(s) of the job(s) that meet the following criteria:\n",
    "1. The job(s) contain the user's requirements; or\n",
    "2. The job(s) contain both \"requirements\" and \"preferences\". In this case, called them: \"Dream Jobs\"\n",
    "\n",
    "If no job meets all “requirements”, respond with \"I am sorry, I do not have your dream job just yet.\"\n",
    "\n",
    "\"\"\""
   ]
  },
  {
   "cell_type": "code",
   "execution_count": 66,
   "metadata": {},
   "outputs": [],
   "source": [
    "def query_message(\n",
    "    query: str,\n",
    "    df: pd.DataFrame,\n",
    "    model: str,\n",
    "    token_budget: int\n",
    ") -> str:\n",
    "    \"\"\"Return a message for GPT, with relevant source texts pulled from a dataframe.\"\"\"\n",
    "    ids, relatednesses = ids_ranked_by_relatedness(query, df)\n",
    "    #Basically giving the most relevant IDs from the previous function\n",
    "    introduction = introduction_prompt\n",
    "    question = f\"\\n\\Requirements and Preferences of the user: {query}\"\n",
    "    message = introduction\n",
    "    for id in ids:\n",
    "        #Get the text for GPT to answer the question\n",
    "        job_description = df[df['id'] == id]['text'].values[0] \n",
    "        \n",
    "        # Add job descriptions to the message along with job ID\n",
    "        next_id = f'\\n\\nJob\\'s ID:\\n\"\"\"\\n{id}\\n\"\"\"\\nJob Description:\\n\"\"\"\\n{job_description}\\n\"\"\"'\n",
    "        if (\n",
    "            num_tokens(message + next_id + question, model=model)\n",
    "            > token_budget\n",
    "        ):\n",
    "            break\n",
    "        else:\n",
    "            message += next_id\n",
    "    return message + question\n"
   ]
  },
  {
   "cell_type": "code",
   "execution_count": 67,
   "metadata": {},
   "outputs": [],
   "source": [
    "system_prompt=\"\"\"\n",
    "\n",
    "You are DreamJobAI, an expert in job searching. \n",
    "Users will share the “requirements” and “preferences” of their dream job.\n",
    "You are going to be provided with jobs ranked by relatedness to the user's “requirements” and “preferences”, use those jobs to complete your task.\n",
    "*Your task is to find jobs which either meet the user's \"requirements\" or the user's \"requirements\" and “preferences”.* \n",
    "\"\"\"\n"
   ]
  },
  {
   "cell_type": "code",
   "execution_count": 68,
   "metadata": {},
   "outputs": [],
   "source": [
    "user_reminder = \"\"\"\n",
    "\n",
    "*Your task is to find jobs which either meet the user's \"requirements\" or the user's \"requirements\" and “preferences”.* \n",
    "\n",
    "\"\"\""
   ]
  },
  {
   "cell_type": "code",
   "execution_count": 69,
   "metadata": {},
   "outputs": [],
   "source": [
    "user_example_1= \"\"\"\n",
    "\n",
    "REQUIREMENTS: A job with Python. PREFERENCES: Data Engineer, Machine Learning \"\"\"\n",
    "\n",
    "assistant_example_1= \"\"\" \n",
    "\n",
    "These jobs meet your requirements, because they require someone fluent in Python:\n",
    "\n",
    "Job's ID: 1\n",
    "Job's ID: 2\n",
    "Job's ID: 3\n",
    "Job's ID: 4\n",
    "Job's ID: 5\n",
    "\n",
    "I found your Dream Job! It requires Python (requirement) and it is in Machine Learning (preferences):\n",
    "\n",
    "Job's ID: 3\n",
    "\n",
    "\"\"\"\n",
    "\n"
   ]
  },
  {
   "cell_type": "code",
   "execution_count": 73,
   "metadata": {},
   "outputs": [],
   "source": [
    "def ask(\n",
    "    #This query is your question, only parameter to fill in function\n",
    "    query: str,\n",
    "    df: pd.DataFrame = df,\n",
    "    model: str = GPT_MODEL,\n",
    "    token_budget: int = 4096,\n",
    "    print_messages: bool = True,\n",
    ") -> str:\n",
    "    #Answers a query using GPT and a dataframe of relevant texts and embeddings.\n",
    "    message = query_message(query, df, model=model, token_budget=token_budget)\n",
    "    messages = [\n",
    "        {\"role\": \"system\", \"content\": system_prompt},\n",
    "        {\"role\": \"user\", \"content\": message},\n",
    "        {\"role\": \"system\", \"name\":\"example_user\", \"content\": user_example_1},\n",
    "        {\"role\": \"system\", \"name\": \"example_assistant\", \"content\": assistant_example_1},\n",
    "        {\"role\": \"user\", \"content\": user_reminder}\n",
    "    ]\n",
    "    if print_messages:\n",
    "        print(messages)\n",
    "    response = openai.ChatCompletion.create(\n",
    "        model=model,\n",
    "        messages=messages,\n",
    "        temperature=0\n",
    "    )\n",
    "    response_message = response[\"choices\"][0][\"message\"][\"content\"]\n",
    "    #Tokens\n",
    "    print(\"'\\nTOTAL TOKENS USED:\\n'\", response['usage']['total_tokens'])\n",
    "    \n",
    "    #relatednesses\n",
    "    ids, relatednesses = ids_ranked_by_relatedness(query=query, df=df)\n",
    "    print(f\"\\nTHE IDs ARE RANKED BY RELEVANCE:\\n\")\n",
    "    for id, relatedness in zip(ids, relatednesses):\n",
    "        print(f\"ID: {id} has the following {relatedness=:.3f}\")\n",
    "    return response_message"
   ]
  },
  {
   "cell_type": "code",
   "execution_count": 75,
   "metadata": {},
   "outputs": [
    {
     "name": "stdout",
     "output_type": "stream",
     "text": [
      "[{'role': 'system', 'content': '\\n\\nYou are DreamJobAI, an expert in job searching. \\nUsers will share the “requirements” and “preferences” of their dream job.\\nYou are going to be provided with jobs ranked by relatedness to the user\\'s “requirements” and “preferences”, use those jobs to complete your task.\\n*Your task is to find jobs which either meet the user\\'s \"requirements\" or the user\\'s \"requirements\" and “preferences”.* \\n'}, {'role': 'user', 'content': '\\n\\nTo assist you, here are the job IDs and the respective job descriptions ranked by relatedness to the user\\'s specifications.\\nReview these jobs and output the ID(s) of the job(s) that meet the following criteria:\\n1. The job(s) contain the user\\'s requirements; or\\n2. The job(s) contain both \"requirements\" and \"preferences\". In this case, called them: \"Dream Jobs\"\\n\\nIf no job meets all “requirements”, respond with \"I am sorry, I do not have your dream job just yet.\"\\n\\n\\n\\nJob\\'s ID:\\n\"\"\"\\n3qfbh5tM\\n\"\"\"\\nJob Description:\\n\"\"\"\\nWeb Developer Java Python PHP etc. is a plus. Remoto\\n\"\"\"\\n\\nJob\\'s ID:\\n\"\"\"\\n4TZBqUZK\\n\"\"\"\\nJob Description:\\n\"\"\"\\nFull Stack Engineer Buscamos un candidato proactivo y con una mentalidad orientada a resultados. Remoto in Ciudad de México\\n\"\"\"\\n\\nJob\\'s ID:\\n\"\"\"\\nvcRRzC7K\\n\"\"\"\\nJob Description:\\n\"\"\"\\nFull Stack Engineer Buscamos un candidato proactivo y con una mentalidad orientada a resultados. Remoto in Ciudad de México\\n\"\"\"\\n\\nJob\\'s ID:\\n\"\"\"\\nOiUarLAo\\n\"\"\"\\nJob Description:\\n\"\"\"\\nFull Stack Developer Conocimiento de Swift/Java/kotlin/Dart en el front end así… Remoto in Cuauhtémoc CDMX\\n\"\"\"\\n\\nJob\\'s ID:\\n\"\"\"\\n24cw8d8J\\n\"\"\"\\nJob Description:\\n\"\"\"\\nDesarrollador .Net Core - Oracle ✔ Oracle PL-SQL +3 años. Remoto in Ciudad de México\\n\"\"\"\\n\\nJob\\'s ID:\\n\"\"\"\\nlnstGfwL\\n\"\"\"\\nJob Description:\\n\"\"\"\\nDevOps Engineer II \"The ideal candidates background will include systems programming or scripting in dynamic tools/languages ruby python bash terraform chef.\" Remoto in Ciudad de México\\n\"\"\"\\n\\nJob\\'s ID:\\n\"\"\"\\n2rPkshzK\\n\"\"\"\\nJob Description:\\n\"\"\"\\nComputer Science Expert AI Training MX We have several open projects where we are looking for talented developers to help train generative artificial intelligence models to write better code. Remoto in Ciudad de México\\n\"\"\"\\n\\nJob\\'s ID:\\n\"\"\"\\nMvMBhOFs\\n\"\"\"\\nJob Description:\\n\"\"\"\\nFull Stack Engineer La posición será 40% trabajo remoto y 60% trabajo en nuestra oficina ubicada en… Remoto in Ciudad de México\\n\"\"\"\\n\\nJob\\'s ID:\\n\"\"\"\\npeMWm1zs\\n\"\"\"\\nJob Description:\\n\"\"\"\\nFull Stack Engineer La posición será 40% trabajo remoto y 60% trabajo en nuestra oficina ubicada en… Remoto in Ciudad de México\\n\"\"\"\\n\\nJob\\'s ID:\\n\"\"\"\\nvGOcRiAO\\n\"\"\"\\nJob Description:\\n\"\"\"\\nCONSULTOR DE SEGURIDAD JR / HOME OFFICE Desarrollo/Programación web Bases de datos Programación Seguridad Informática en general Concepto de CDN: AWS AZURE Google WAF API Zero Trust Owasp… Remoto\\n\"\"\"\\n\\nJob\\'s ID:\\n\"\"\"\\nmModjrRD\\n\"\"\"\\nJob Description:\\n\"\"\"\\nProgramador Junior Conocimientos en tecnologia de infraestructura como AWS… Remoto in Naucalpan Méx.\\n\"\"\"\\n\\nJob\\'s ID:\\n\"\"\"\\nkJTCFpat\\n\"\"\"\\nJob Description:\\n\"\"\"\\nCONSULTOR DE SEGURIDAD II/ HOME OFFICE Desarrollo/Programación web Bases de datos Programación Seguridad Informática en general Concepto de CDN: AWS AZURE Google WAF API Zero Trust Owasp… Remoto\\n\"\"\"\\n\\nJob\\'s ID:\\n\"\"\"\\nbd3m3H9V\\n\"\"\"\\nJob Description:\\n\"\"\"\\nJava Developer Egresado de carreras de sistemas o afín. Remoto in Veracruz Ver.\\n\"\"\"\\n\\nJob\\'s ID:\\n\"\"\"\\nQjJFvjn6\\n\"\"\"\\nJob Description:\\n\"\"\"\\nJr Data Scientist Experience 0 to 1 year Strong capacity for statistical data… Remoto in Ciudad de México\\n\"\"\"\\n\\nJob\\'s ID:\\n\"\"\"\\n1eKWya1X\\n\"\"\"\\nJob Description:\\n\"\"\"\\nSOLUTIONS ENGINEER JR. / HOME OFFICE Conocimientos Desarrollo / Programación Web Bases de datos Programación Seguridad Informática en general Concepto de CDN: AWS Azure Google WAF. Remoto\\n\"\"\"\\n\\\\Requirements and Preferences of the user: REQUIREMENTS: Ciudad de México. PREFERENCES: Python, Java, PHP'}, {'role': 'system', 'name': 'example_user', 'content': '\\n\\nREQUIREMENTS: A job with Python. PREFERENCES: Data Engineer, Machine Learning '}, {'role': 'system', 'name': 'example_assistant', 'content': \" \\n\\nThese jobs meet your requirements, because they require someone fluent in Python:\\n\\nJob's ID: 1\\nJob's ID: 2\\nJob's ID: 3\\nJob's ID: 4\\nJob's ID: 5\\n\\nI found your Dream Job! It requires Python (requirement) and it is in Machine Learning (preferences):\\n\\nJob's ID: 3\\n\\n\"}, {'role': 'user', 'content': '\\n\\n*Your task is to find jobs which either meet the user\\'s \"requirements\" or the user\\'s \"requirements\" and “preferences”.* \\n\\n'}]\n",
      "'\n",
      "TOTAL TOKENS USED:\n",
      "' 1302\n",
      "\n",
      "THE IDs ARE RANKED BY RELEVANCE:\n",
      "\n",
      "ID: 3qfbh5tM has the following relatedness=0.871\n",
      "ID: 4TZBqUZK has the following relatedness=0.857\n",
      "ID: vcRRzC7K has the following relatedness=0.857\n",
      "ID: OiUarLAo has the following relatedness=0.849\n",
      "ID: 24cw8d8J has the following relatedness=0.847\n",
      "ID: lnstGfwL has the following relatedness=0.844\n",
      "ID: 2rPkshzK has the following relatedness=0.841\n",
      "ID: MvMBhOFs has the following relatedness=0.841\n",
      "ID: peMWm1zs has the following relatedness=0.841\n",
      "ID: vGOcRiAO has the following relatedness=0.839\n",
      "ID: mModjrRD has the following relatedness=0.838\n",
      "ID: kJTCFpat has the following relatedness=0.836\n",
      "ID: bd3m3H9V has the following relatedness=0.835\n",
      "ID: QjJFvjn6 has the following relatedness=0.832\n",
      "ID: yWLJzNMG has the following relatedness=0.832\n",
      "Based on your requirements and preferences, here are the jobs that meet your criteria:\n",
      "\n",
      "Jobs that meet your requirements (Ciudad de México):\n",
      "\n",
      "Job's ID: 4TZBqUZK\n",
      "Job's ID: vcRRzC7K\n",
      "Job's ID: OiUarLAo\n",
      "Job's ID: 24cw8d8J\n",
      "Job's ID: lnstGfwL\n",
      "Job's ID: 2rPkshzK\n",
      "Job's ID: MvMBhOFs\n",
      "Job's ID: peMWm1zs\n",
      "Job's ID: QjJFvjn6\n",
      "\n",
      "Dream Jobs (Ciudad de México, Python, Java, PHP):\n",
      "\n",
      "Job's ID: 3qfbh5tM (Web Developer Java Python PHP etc. is a plus. Remoto)\n"
     ]
    }
   ],
   "source": [
    "print(ask('REQUIREMENTS: Ciudad de México. PREFERENCES: Python, Java, PHP'))"
   ]
  },
  {
   "cell_type": "code",
   "execution_count": null,
   "metadata": {},
   "outputs": [],
   "source": [
    "#print(ask('REQUIREMENTS: Python developer. PREFERENCES: Machine Learning or Data Engineer'))"
   ]
  }
 ],
 "metadata": {
  "kernelspec": {
   "display_name": "Python 3",
   "language": "python",
   "name": "python3"
  },
  "language_info": {
   "codemirror_mode": {
    "name": "ipython",
    "version": 3
   },
   "file_extension": ".py",
   "mimetype": "text/x-python",
   "name": "python",
   "nbconvert_exporter": "python",
   "pygments_lexer": "ipython3",
   "version": "3.10.6"
  },
  "orig_nbformat": 4
 },
 "nbformat": 4,
 "nbformat_minor": 2
}
