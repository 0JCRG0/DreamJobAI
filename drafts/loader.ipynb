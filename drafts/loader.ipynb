{
 "cells": [
  {
   "cell_type": "code",
   "execution_count": 1,
   "metadata": {},
   "outputs": [
    {
     "name": "stdout",
     "output_type": "stream",
     "text": [
      "Intel MKL WARNING: Support of Intel(R) Streaming SIMD Extensions 4.2 (Intel(R) SSE4.2) enabled only processors has been deprecated. Intel oneAPI Math Kernel Library 2025.0 will require Intel(R) Advanced Vector Extensions (Intel(R) AVX) instructions.\n",
      "Intel MKL WARNING: Support of Intel(R) Streaming SIMD Extensions 4.2 (Intel(R) SSE4.2) enabled only processors has been deprecated. Intel oneAPI Math Kernel Library 2025.0 will require Intel(R) Advanced Vector Extensions (Intel(R) AVX) instructions.\n"
     ]
    }
   ],
   "source": [
    "import pandas as pd"
   ]
  },
  {
   "cell_type": "code",
   "execution_count": 15,
   "metadata": {},
   "outputs": [],
   "source": [
    "df = pd.read_parquet(\"/Users/juanreyesgarcia/Library/CloudStorage/OneDrive-FundacionUniversidaddelasAmericasPuebla/DEVELOPER/PROJECTS/DreamedJobAI/data/e5_base_v2_embeddings.parquet\")\n",
    "df2 = pd.read_parquet(\"/Users/juanreyesgarcia/Library/CloudStorage/OneDrive-FundacionUniversidaddelasAmericasPuebla/DEVELOPER/PROJECTS/DreamedJobAI/data/openai_embedding.parquet\")\n",
    "appended = pd.read_parquet(\"/Users/juanreyesgarcia/Library/CloudStorage/OneDrive-FundacionUniversidaddelasAmericasPuebla/DEVELOPER/PROJECTS/DreamedJobAI/data/appended.parquet\")\n",
    "appended_openai = pd.read_parquet(\"/Users/juanreyesgarcia/Library/CloudStorage/OneDrive-FundacionUniversidaddelasAmericasPuebla/DEVELOPER/PROJECTS/DreamedJobAI/data/appended_openai.parquet\")"
   ]
  },
  {
   "cell_type": "code",
   "execution_count": 17,
   "metadata": {},
   "outputs": [
    {
     "name": "stdout",
     "output_type": "stream",
     "text": [
      "          ids                                text_data  \\\n",
      "count    1314                                     1314   \n",
      "unique   1314                                     1213   \n",
      "top     39695  passage: Advertise your brand here  NaN   \n",
      "freq        1                                       46   \n",
      "\n",
      "                                               embeddings  \n",
      "count                                                1314  \n",
      "unique                                               1314  \n",
      "top     [-0.002746923826634884, -0.01700136810541153, ...  \n",
      "freq                                                    1  \n"
     ]
    }
   ],
   "source": [
    "print(appended_openai.describe())"
   ]
  },
  {
   "cell_type": "code",
   "execution_count": 16,
   "metadata": {},
   "outputs": [
    {
     "name": "stdout",
     "output_type": "stream",
     "text": [
      "          ids                                text_data  \\\n",
      "count    1189                                     1189   \n",
      "unique   1189                                     1105   \n",
      "top     33143  passage: Advertise your brand here  NaN   \n",
      "freq        1                                       38   \n",
      "\n",
      "                                               embeddings  \n",
      "count                                                1189  \n",
      "unique                                               1189  \n",
      "top     [0.00408076262101531, -0.020918594673275948, -...  \n",
      "freq                                                    1  \n"
     ]
    }
   ],
   "source": [
    "#print(df2.head())\n",
    "print(df2.describe())"
   ]
  },
  {
   "cell_type": "code",
   "execution_count": 7,
   "metadata": {},
   "outputs": [
    {
     "name": "stdout",
     "output_type": "stream",
     "text": [
      "Parquet file copied from /Users/juanreyesgarcia/Library/CloudStorage/OneDrive-FundacionUniversidaddelasAmericasPuebla/DEVELOPER/PROJECTS/DreamedJobAI/data/e5_base_v2_embeddings.parquet to /Users/juanreyesgarcia/Library/CloudStorage/OneDrive-FundacionUniversidaddelasAmericasPuebla/DEVELOPER/PROJECTS/DreamedJobAI/data/copy_e5_base.parquet\n"
     ]
    }
   ],
   "source": [
    "import shutil\n",
    "\n",
    "def copy_parquet_file(source_file, destination_file):\n",
    "    shutil.copy2(source_file, destination_file)\n",
    "    print(f\"Parquet file copied from {source_file} to {destination_file}\")\n",
    "\n",
    "# Example usage\n",
    "source_file = '/Users/juanreyesgarcia/Library/CloudStorage/OneDrive-FundacionUniversidaddelasAmericasPuebla/DEVELOPER/PROJECTS/DreamedJobAI/data/e5_base_v2_embeddings.parquet'\n",
    "destination_file = '/Users/juanreyesgarcia/Library/CloudStorage/OneDrive-FundacionUniversidaddelasAmericasPuebla/DEVELOPER/PROJECTS/DreamedJobAI/data/copy_e5_base.parquet'\n",
    "\n",
    "copy_parquet_file(source_file, destination_file)\n"
   ]
  },
  {
   "cell_type": "code",
   "execution_count": 14,
   "metadata": {},
   "outputs": [],
   "source": [
    "import pandas as pd\n",
    "import pyarrow as pa\n",
    "import pyarrow.parquet as pq\n",
    "\n",
    "def append_parquet_files(file_x, file_y, output_file):\n",
    "    # Read the Parquet files\n",
    "    table_x = pq.read_table(file_x)\n",
    "    table_y = pq.read_table(file_y)\n",
    "    \n",
    "    # Append the tables\n",
    "    appended_table = pa.concat_tables([table_x, table_y])\n",
    "    \n",
    "    # Write the appended table to a new Parquet file\n",
    "    pq.write_table(appended_table, output_file)\n",
    "\n",
    "# Example usage\n",
    "file_x = '/Users/juanreyesgarcia/Library/CloudStorage/OneDrive-FundacionUniversidaddelasAmericasPuebla/DEVELOPER/PROJECTS/DreamedJobAI/data/test.parquet'\n",
    "file_y = '/Users/juanreyesgarcia/Library/CloudStorage/OneDrive-FundacionUniversidaddelasAmericasPuebla/DEVELOPER/PROJECTS/DreamedJobAI/data/copy_openai.parquet'\n",
    "output_file = '/Users/juanreyesgarcia/Library/CloudStorage/OneDrive-FundacionUniversidaddelasAmericasPuebla/DEVELOPER/PROJECTS/DreamedJobAI/data/appended_openai.parquet'\n",
    "\n",
    "append_parquet_files(file_x, file_y, output_file)\n"
   ]
  }
 ],
 "metadata": {
  "kernelspec": {
   "display_name": "E5",
   "language": "python",
   "name": "python3"
  },
  "language_info": {
   "codemirror_mode": {
    "name": "ipython",
    "version": 3
   },
   "file_extension": ".py",
   "mimetype": "text/x-python",
   "name": "python",
   "nbconvert_exporter": "python",
   "pygments_lexer": "ipython3",
   "version": "3.11.3"
  },
  "orig_nbformat": 4
 },
 "nbformat": 4,
 "nbformat_minor": 2
}
