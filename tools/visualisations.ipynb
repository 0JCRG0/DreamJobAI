{
 "cells": [
  {
   "cell_type": "code",
   "execution_count": 41,
   "metadata": {},
   "outputs": [],
   "source": [
    "import matplotlib.pyplot as plt\n",
    "from countryinfo import CountryInfo\n",
    "import psycopg2\n",
    "import pandas as pd\n",
    "import logging\n",
    "import json\n",
    "import os\n",
    "from dotenv import load_dotenv\n",
    "import pycountry\n",
    "import time\n",
    "\n"
   ]
  },
  {
   "cell_type": "code",
   "execution_count": 2,
   "metadata": {},
   "outputs": [],
   "source": [
    "load_dotenv('.env')\n",
    "user = os.getenv(\"user\")\n",
    "password = os.getenv(\"password\")\n",
    "host = os.getenv(\"host\")\n",
    "port = os.getenv(\"port\")\n",
    "database = os.getenv(\"database\")\n",
    "SAVE_PATH = os.getenv(\"SAVE_PATH\")"
   ]
  },
  {
   "cell_type": "code",
   "execution_count": 3,
   "metadata": {},
   "outputs": [
    {
     "data": {
      "text/plain": [
       "'def all_data_postgre() -> list :\\n\\tconn = psycopg2.connect(user=user, password=password, host=host, port=port, database=database)\\n\\n\\t# Create a cursor object\\n\\tcur = conn.cursor()\\n\\n\\t# Fetch new data from the table where id is greater than max_id\\n\\tcur.execute(\"SELECT * FROM main_jobs\")\\n\\tdata = cur.fetchall()\\n\\n\\t# Fetch column names from the cursor\\'s description\\n\\tcolumn_names = [desc[0] for desc in cur.description]\\n\\n\\t# Create a DataFrame with fetched data and set column names\\n\\tdf = pd.DataFrame(data, columns=column_names)\\n\\n\\t# Close the database connection\\n\\tconn.commit()\\n\\tcur.close()\\n\\tconn.close()\\n\\n\\treturn df\\n\\ndf = all_data_postgre()'"
      ]
     },
     "execution_count": 3,
     "metadata": {},
     "output_type": "execute_result"
    }
   ],
   "source": [
    "\n",
    "#SELECTS ALL JOBS\n",
    "\"\"\"\n",
    "def all_data_postgre() -> list :\n",
    "\tconn = psycopg2.connect(user=user, password=password, host=host, port=port, database=database)\n",
    "\n",
    "\t# Create a cursor object\n",
    "\tcur = conn.cursor()\n",
    "\n",
    "\t# Fetch new data from the table where id is greater than max_id\n",
    "\tcur.execute(\"SELECT * FROM main_jobs\")\n",
    "\tdata = cur.fetchall()\n",
    "\n",
    "\t# Fetch column names from the cursor's description\n",
    "\tcolumn_names = [desc[0] for desc in cur.description]\n",
    "\n",
    "\t# Create a DataFrame with fetched data and set column names\n",
    "\tdf = pd.DataFrame(data, columns=column_names)\n",
    "\n",
    "\t# Close the database connection\n",
    "\tconn.commit()\n",
    "\tcur.close()\n",
    "\tconn.close()\n",
    "\n",
    "\treturn df\n",
    "\n",
    "df = all_data_postgre()\"\"\"\n"
   ]
  },
  {
   "cell_type": "code",
   "execution_count": 4,
   "metadata": {},
   "outputs": [
    {
     "data": {
      "text/plain": [
       "'# Get the number of unique entries\\nnum_unique_entries = df[\\'location\\'].nunique()\\nprint(f\"Number of unique entries: {num_unique_entries}\")\\n\\n# Get the counts of each unique entry\\ncounts = df[\\'location\\'].value_counts()\\n\\n# Plot the counts in a pie chart\\nplt.figure(figsize=(20, 8))\\ncounts.plot(kind=\\'pie\\', autopct=\\'%1.1f%%\\')\\nplt.title(\\'Distribution of Locations\\')\\nplt.ylabel(\\'\\')\\nplt.show()'"
      ]
     },
     "execution_count": 4,
     "metadata": {},
     "output_type": "execute_result"
    }
   ],
   "source": [
    "# Plot unique entries\n",
    "\"\"\"\n",
    "num_unique_entries = df['location'].nunique()\n",
    "print(f\"Number of unique entries: {num_unique_entries}\")\n",
    "\n",
    "# Get the counts of each unique entry\n",
    "counts = df['location'].value_counts()\n",
    "\n",
    "# Plot the counts in a pie chart\n",
    "plt.figure(figsize=(20, 8))\n",
    "counts.plot(kind='pie', autopct='%1.1f%%')\n",
    "plt.title('Distribution of Locations')\n",
    "plt.ylabel('')\n",
    "plt.show()\"\"\""
   ]
  },
  {
   "cell_type": "code",
   "execution_count": 31,
   "metadata": {},
   "outputs": [
    {
     "name": "stdout",
     "output_type": "stream",
     "text": [
      "JSON FILE SAVED CORRECTLY\n"
     ]
    }
   ],
   "source": [
    "\n",
    "#Subdivision per country code\n",
    "\n",
    "with open(SAVE_PATH + '/country_abbreviations.json', 'r') as f:\n",
    "    country_abbreviations = json.load(f)\n",
    "\n",
    "countries = []\n",
    "for country, abbreviation in country_abbreviations.items():\n",
    "    country_dict = {\"country_name\": country, \"country_code\": abbreviation}\n",
    "    try:\n",
    "        # Get the subdivisions of the country\n",
    "        time.sleep(.5)\n",
    "        subdivisions = list(pycountry.subdivisions.get(country_code=abbreviation))\n",
    "        if subdivisions:\n",
    "            subdivisions_list = []\n",
    "            for subdivision in subdivisions:\n",
    "                subdivisions_list.append({\"subdivisions_code\": subdivision.code, \"subdivisions_name\": subdivision.name})\n",
    "            country_dict[\"subdivisions\"] = subdivisions_list\n",
    "        else:\n",
    "            country_dict[\"subdivisions\"] = \"NaN\"\n",
    "    except KeyError:\n",
    "        country_dict[\"subdivisions\"] = \"NaN\"\n",
    "    countries.append(country_dict)\n",
    "\n",
    "# Save the list of countries as a JSON file\n",
    "with open(SAVE_PATH + '/country_subdivisions.json', 'w') as json_file:\n",
    "    json.dump({\"Countries\": countries}, json_file, indent=4)\n",
    "\n",
    "print(\"JSON FILE SAVED CORRECTLY\")"
   ]
  },
  {
   "cell_type": "code",
   "execution_count": 38,
   "metadata": {},
   "outputs": [],
   "source": [
    "#Continents [Countries[info]]\n",
    "\n",
    "import json\n",
    "from pycountry_convert import country_alpha2_to_continent_code, convert_continent_code_to_continent_name\n",
    "\n",
    "# Load your existing JSON data\n",
    "with open(SAVE_PATH + '/country_subdivisions.json', 'r') as f:\n",
    "    data = json.load(f)\n",
    "\n",
    "# Initialize an empty dictionary to hold the new data structure\n",
    "continent_countries = {}\n",
    "\n",
    "# Iterate over the countries in your data\n",
    "for country in data['Countries']:\n",
    "    # Get the country code\n",
    "    country_code = country['country_code']\n",
    "\n",
    "    # Get the continent code and convert it to continent name\n",
    "    try:\n",
    "        continent_code = country_alpha2_to_continent_code(country_code)\n",
    "        continent_name = convert_continent_code_to_continent_name(continent_code)\n",
    "    except KeyError:\n",
    "        # If the country code is not recognized, skip this country\n",
    "        continue\n",
    "\n",
    "    # If the continent is not yet in the dictionary, add it\n",
    "    if continent_name not in continent_countries:\n",
    "        continent_countries[continent_name] = {'Countries': []}\n",
    "\n",
    "    # Add the country to the continent's list of countries\n",
    "    continent_countries[continent_name]['Countries'].append(country)\n",
    "\n",
    "# Save the new data structure as a JSON file\n",
    "with open(SAVE_PATH + '/continent_countries.json', 'w') as f:\n",
    "    json.dump(continent_countries, f, indent=4)"
   ]
  },
  {
   "cell_type": "code",
   "execution_count": 43,
   "metadata": {},
   "outputs": [],
   "source": [
    "\n",
    "#Get the capital cities in english\n",
    "\n",
    "with open(SAVE_PATH + '/continent_countries.json', 'r') as f:\n",
    "    data = json.load(f)\n",
    "\n",
    "# Iterate over the countries in your data\n",
    "for continent in data.values():\n",
    "    for i, country in enumerate(continent['Countries']):\n",
    "        # Get the country name\n",
    "        country_name = country['country_name']\n",
    "\n",
    "        # Get the capital city\n",
    "        try:\n",
    "            country_info = CountryInfo(country_name)\n",
    "            capital_city = country_info.capital()\n",
    "        except KeyError:\n",
    "            # If the country name is not recognized, set the capital to 'NaN'\n",
    "            capital_city = 'NaN'\n",
    "\n",
    "        # Create a new dictionary for the country with the keys in the desired order\n",
    "        new_country = {\n",
    "            'country_name': country_name,\n",
    "            'country_code': country['country_code'],\n",
    "            'capital_english': capital_city,\n",
    "            'subdivisions': country['subdivisions']\n",
    "        }\n",
    "\n",
    "        # Replace the old country dictionary with the new one\n",
    "        continent['Countries'][i] = new_country\n",
    "\n",
    "# Save the new data structure as a JSON file\n",
    "with open(SAVE_PATH + '/continent_countries_with_capitals.json', 'w') as f:\n",
    "    json.dump(data, f, indent=4)"
   ]
  },
  {
   "cell_type": "code",
   "execution_count": 52,
   "metadata": {},
   "outputs": [],
   "source": [
    "def all_location_postgre() -> list :\n",
    "\tconn = psycopg2.connect(user=user, password=password, host=host, port=port, database=database)\n",
    "\n",
    "\t# Create a cursor object\n",
    "\tcur = conn.cursor()\n",
    "\n",
    "\t# Fetch new data from the table where id is greater than max_id\n",
    "\t#cur.execute(\"SELECT DISTINCT location FROM main_jobs\")\n",
    "\tcur.execute(\"SELECT DISTINCT location FROM main_jobs\")\n",
    "\n",
    "\tdata = cur.fetchall()\n",
    "\n",
    "\t# Create a DataFrame with fetched data and set column names\n",
    "\tdf = pd.DataFrame(data, columns=[\"location\"])\n",
    "\n",
    "\t# Close the database connection\n",
    "\tcur.close()\n",
    "\tconn.close()\n",
    "\n",
    "\treturn df\n",
    "\n",
    "df = all_location_postgre()\n",
    "\n",
    "df.to_csv(SAVE_PATH + '/location_distinct.csv', index=False)\n"
   ]
  },
  {
   "cell_type": "code",
   "execution_count": 53,
   "metadata": {},
   "outputs": [],
   "source": [
    "\n",
    "\n",
    "def country_name_to_code():\n",
    "    # Country name transformed to their respective codes & clean\n",
    "    with open(SAVE_PATH + '/continent_countries_with_capitals.json', 'r') as f:\n",
    "        data = json.load(f)\n",
    "\n",
    "    # Create dictionaries for country names and subdivision names\n",
    "    country_dict = {}\n",
    "    subdivision_dict = {}\n",
    "    for continent in data.values():\n",
    "        for country in continent['Countries']:\n",
    "            country_dict[country['country_name']] = country['country_code']\n",
    "\n",
    "    def convert_names_to_codes(row, country_dict=country_dict, subdivision_dict=subdivision_dict):\n",
    "        # Split the string into a list of names\n",
    "        names = row.split()\n",
    "\n",
    "        # Replace each name with its code\n",
    "        codes = [country_dict.get(name, name) for name in names]\n",
    "\n",
    "        # Remove duplicates and join the codes back into a string\n",
    "        return ' '.join(pd.unique(codes))\n",
    "\n",
    "    # Apply the function to the 'location' column\n",
    "    df['location'] = df['location'].apply(convert_names_to_codes)\n",
    "\n",
    "    df.to_csv(SAVE_PATH + '/location_distinct.csv', index=False)"
   ]
  },
  {
   "cell_type": "code",
   "execution_count": 54,
   "metadata": {},
   "outputs": [
    {
     "name": "stdout",
     "output_type": "stream",
     "text": [
      "     Country Code  Count\n",
      "0          Remote    379\n",
      "1              US    160\n",
      "2              CA    115\n",
      "3              UK     49\n",
      "4          United     45\n",
      "..            ...    ...\n",
      "246        states      1\n",
      "247  Remote-Phnom      1\n",
      "248     Northeast      1\n",
      "249           UK-      1\n",
      "250            JO      1\n",
      "\n",
      "[251 rows x 2 columns]\n"
     ]
    }
   ],
   "source": [
    "# Split the 'countries' column into separate country codes\n",
    "country_codes = df['location'].str.split()\n",
    "\n",
    "# Flatten the list of lists into a single list\n",
    "country_codes = [code for sublist in country_codes for code in sublist]\n",
    "\n",
    "# Convert the list into a Series and count the occurrences of each country code\n",
    "country_counts = pd.Series(country_codes).value_counts()\n",
    "\n",
    "# Convert the Series to a DataFrame\n",
    "country_counts_df = country_counts.reset_index()\n",
    "\n",
    "# Rename the columns\n",
    "country_counts_df.columns = ['Country Code', 'Count']\n",
    "\n",
    "# Print the DataFrame\n",
    "print(country_counts_df)\n",
    "\n",
    "country_counts_df.to_csv(SAVE_PATH + '/location_distinct_counts.csv', index=False)\n"
   ]
  }
 ],
 "metadata": {
  "kernelspec": {
   "display_name": "e5",
   "language": "python",
   "name": "python3"
  },
  "language_info": {
   "codemirror_mode": {
    "name": "ipython",
    "version": 3
   },
   "file_extension": ".py",
   "mimetype": "text/x-python",
   "name": "python",
   "nbconvert_exporter": "python",
   "pygments_lexer": "ipython3",
   "version": "3.10.6"
  },
  "orig_nbformat": 4
 },
 "nbformat": 4,
 "nbformat_minor": 2
}
