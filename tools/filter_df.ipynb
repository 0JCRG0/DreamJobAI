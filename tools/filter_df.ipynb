{
 "cells": [
  {
   "cell_type": "code",
   "execution_count": 1,
   "metadata": {},
   "outputs": [],
   "source": [
    "import matplotlib.pyplot as plt\n",
    "from countryinfo import CountryInfo\n",
    "import psycopg2\n",
    "import pandas as pd\n",
    "import logging\n",
    "import json\n",
    "import os\n",
    "from datetime import datetime, timedelta\n",
    "from dotenv import load_dotenv\n",
    "import pycountry\n",
    "import time\n",
    "\n",
    "load_dotenv('.env')\n",
    "user = os.getenv(\"user\")\n",
    "password = os.getenv(\"password\")\n",
    "host = os.getenv(\"host\")\n",
    "port = os.getenv(\"port\")\n",
    "database = os.getenv(\"database\")\n",
    "SAVE_PATH = os.getenv(\"SAVE_PATH\")\n",
    "E5_BASE_V2_DATA = os.getenv(\"E5_BASE_V2_DATA\")\n"
   ]
  },
  {
   "cell_type": "code",
   "execution_count": null,
   "metadata": {},
   "outputs": [],
   "source": [
    "def filter_last_two_weeks(df:pd.DataFrame) -> pd.DataFrame:\n",
    "    # Get the current date\n",
    "    current_date = datetime.now().date()\n",
    "    \n",
    "    # Calculate the date two weeks ago from the current date\n",
    "    two_weeks_ago = current_date - timedelta(days=14)\n",
    "    \n",
    "    # Filter the DataFrame to keep only rows with timestamps in the last two weeks\n",
    "    filtered_df = df[df[\"timestamp\"].dt.date >= two_weeks_ago]\n",
    "    \n",
    "    return filtered_df"
   ]
  },
  {
   "cell_type": "code",
   "execution_count": null,
   "metadata": {},
   "outputs": [],
   "source": [
    "embeddings_path = E5_BASE_V2_DATA\n",
    "\n",
    "df_unfiltered = pd.read_parquet(embeddings_path)\n",
    "\n",
    "df = filter_last_two_weeks(df_unfiltered)"
   ]
  },
  {
   "cell_type": "code",
   "execution_count": null,
   "metadata": {},
   "outputs": [],
   "source": [
    "def filter_df_per_country(df: pd.DataFrame, country_name:str) -> pd.DataFrame:\n",
    "\t# Load the JSON file into a Python dictionary\n",
    "\twith open(SAVE_PATH + '/continent_countries_with_capitals.json', 'r') as f:\n",
    "\t\tdata = json.load(f)\n",
    "\n",
    "\t# Function to get country information\n",
    "\tdef get_country_info(country_name):\n",
    "\t\tvalues = []\n",
    "\t\tfor continent, details in data.items():\n",
    "\t\t\tfor country in details['Countries']:\n",
    "\t\t\t\tif country['country_name'] == country_name:\n",
    "\t\t\t\t\tvalues.append(country['country_name'])\n",
    "\t\t\t\t\tvalues.append(country['country_code'])\n",
    "\t\t\t\t\tvalues.append(country['capital_english'])\n",
    "\t\t\t\t\tfor subdivision in country['subdivisions']:\n",
    "\t\t\t\t\t\tvalues.append(subdivision['subdivisions_code'])\n",
    "\t\t\t\t\t\tvalues.append(subdivision['subdivisions_name'])\n",
    "\t\treturn values\n",
    "\n",
    "\t# Get information for a specific country\n",
    "\tcountry_values = get_country_info(country_name)\n",
    "\n",
    "\t# Convert 'location' column to lowercase\n",
    "\tdf['location'] = df['location'].str.lower()\n",
    "\n",
    "\t# Convert all country values to lowercase\n",
    "\tcountry_values = [value.lower() for value in country_values]\n",
    "\n",
    "\t# Create a mask with all False\n",
    "\tmask = pd.Series(False, index=df.index)\n",
    "\n",
    "\t# Update the mask if 'location' column contains any of the country values\n",
    "\tfor value in country_values:\n",
    "\t\tmask |= df['location'].str.contains(value, na=False)\n",
    "\n",
    "\t# Filter DataFrame\n",
    "\tfiltered_df = df[mask]\n",
    "\n",
    "\treturn filtered_df"
   ]
  },
  {
   "cell_type": "code",
   "execution_count": null,
   "metadata": {},
   "outputs": [],
   "source": [
    "result_df = filter_df_per_country(df, \"Mexico\")\n",
    "\n",
    "print(result_df, result_df.info())"
   ]
  },
  {
   "cell_type": "code",
   "execution_count": null,
   "metadata": {},
   "outputs": [],
   "source": [
    "# look for the values in every column\n",
    "\n",
    "df = df.applymap(lambda s: s.lower() if type(s) == str else s)\n",
    "\n",
    "# Convert all country values to lowercase\n",
    "country_values = [value.lower() for value in country_values]\n",
    "\n",
    "# Filter DataFrame\n",
    "# Create a mask with all False\n",
    "mask = pd.Series(False, index=df.index)\n",
    "\n",
    "# Update the mask if any string column contains any of the country values\n",
    "for column in df.select_dtypes(include=[object]).columns:\n",
    "    for value in country_values:\n",
    "        mask |= df[column].str.contains(value, na=False)\n",
    "\n",
    "# Filter DataFrame\n",
    "filtered_df = df[mask]"
   ]
  }
 ],
 "metadata": {
  "kernelspec": {
   "display_name": "e5",
   "language": "python",
   "name": "python3"
  },
  "language_info": {
   "codemirror_mode": {
    "name": "ipython",
    "version": 3
   },
   "file_extension": ".py",
   "mimetype": "text/x-python",
   "name": "python",
   "nbconvert_exporter": "python",
   "pygments_lexer": "ipython3",
   "version": "3.10.6"
  },
  "orig_nbformat": 4
 },
 "nbformat": 4,
 "nbformat_minor": 2
}
