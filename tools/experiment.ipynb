{
 "cells": [
  {
   "cell_type": "code",
   "execution_count": 1,
   "metadata": {},
   "outputs": [],
   "source": [
    "import pandas as pd"
   ]
  },
  {
   "cell_type": "code",
   "execution_count": 2,
   "metadata": {},
   "outputs": [],
   "source": [
    "def set_dataframe_display_options():\n",
    "    pd.set_option('display.max_columns', None)  # Show all columns\n",
    "    pd.set_option('display.max_rows', None)  # Show all rows\n",
    "    pd.set_option('display.width', None)  # Disable column width restriction\n",
    "    pd.set_option('display.expand_frame_repr', False)  # Disable wrapping to multiple lines\n",
    "    pd.set_option('display.max_colwidth', None)  # Display full contents of each column\n",
    "\n",
    "# Call the function to set the desired display options\n",
    "set_dataframe_display_options()"
   ]
  },
  {
   "cell_type": "code",
   "execution_count": 3,
   "metadata": {},
   "outputs": [],
   "source": [
    "df_raw_summaries = pd.read_csv(\"/Users/juanreyesgarcia/Library/CloudStorage/OneDrive-FundacionUniversidaddelasAmericasPuebla/DEVELOPER/PROJECTS/DreamedJobAI/data/raw_summarised_batches.csv\")\n",
    "df_e5 = pd.read_parquet('/Users/juanreyesgarcia/Library/CloudStorage/OneDrive-FundacionUniversidaddelasAmericasPuebla/DEVELOPER/PROJECTS/DreamedJobAI/data/e5_base_v2_data.parquet')\n",
    "df_final_user = pd.read_parquet('/Users/juanreyesgarcia/Library/CloudStorage/OneDrive-FundacionUniversidaddelasAmericasPuebla/DEVELOPER/PROJECTS/DreamedJobAI/data/final_user_df.parquet')\n"
   ]
  },
  {
   "cell_type": "code",
   "execution_count": 4,
   "metadata": {},
   "outputs": [
    {
     "name": "stdout",
     "output_type": "stream",
     "text": [
      "      id                                    title                                                                                     link   location                                                                                                                                                                                                                                                                                                                                                                                                                                                                                                                                                                                                                                                                                                                                                                                                                                                                                                                                                                                                                                                                                                                                                                                                                                                                                                                                                                                                                                                                                                                                                                                                                                                                                                                                                                                                                                                                                                                                                                                                                                                                                                                                                                                                                                                                                                                                                                                                                                                                                                                                                summary           suitability                                                                                                                                                                                                             explanation\n",
      "0  43386  Business Analyst - Payment Transactions  https://remotive.com/remote-jobs/business/business-analyst-payment-transactions-1719599     Poland                                                               Title: Business Analyst - Payment Transactions\\nLocation: Poland\\nJob Objective: Join our team as a Business Analyst! In your role as Technical Business Analyst Cheques and Payment Investigation, you will be part of our vision to digitalize and automate the payment investigation process and improve the current workflow for our internal customers with innovative technologies. You will also support traditional paper-based payments method like foreign cheques. As BA responsible in this business area, you will be able to drive this change and define adequate solutions. For this, you will analyze business requirements and be able to configure the system and translate the requirements to the test scope and provide this to development team or external vendor. You will use modern IT infrastructure and tools and work in an environment of Agile product development.\\nResponsibilities/Key duties: As a Business Analyst, you are responsible for the translation of business requirements into IT solutions and associated applications. You will act as a link between business experts of Payment Transactions and IT development or maintenance teams. Your main duty is understanding and analyzing business requirements actual/target and defining and designing the appropriate functional solutions either as parametrization within the application or as a functional IT concept to be realized by the development team. You will advise and consult business as well as IT experts on functional concepts of the application and on business process or workflow optimization. You will create concepts as business process models as well as business data or object models or specifications for the solution. You will also define functional test scenarios as well as quality assurance measures and support test activities on test environments. In case of incidents or issues, you will analyze and design solutions of the problems in close collaboration with other involved teams. You are one of the experts within your scrum team for all aspects of functional and business analysis aspects for the Fincase and Comcheque – the application which supports payment investigations and foreign cheques.\\nQualifications/Requirements/Experience: Understanding and analyzing business requirements actual/target. Gathering documentation of business requirements and design/development of functional solution/function IT  Potentially Suitable  The candidate has experience in data analysis and is proficient in Python, SQL Server, and Power BI, which could be useful in a Business Analyst role. However, they lack specific experience in payment transactions.\n",
      "1  43385   Administrative Assistant - Engineering   https://remotive.com/remote-jobs/business/administrative-assistant-engineering-1753371     Canada  Title: Administrative Assistant - Engineering\\nLocation: Canada\\nJob Objective: An Administrative Assistant at Mozilla provides support to another individual or group of individuals by managing calendars and appointments, coordinating activities between teams and departments, making travel arrangements, and providing other specialized administrative support to extend the effectiveness and efficiency of those they support.\\nResponsibilities/Key duties: Understands the business priorities of your leaders to best leverage their time. Prioritizes multiple dynamic senior leader calendars with the ability to anticipate issues and ensure successful meeting coordination. Schedules and maintains meetings, travel itineraries, and coordinates related arrangements for assigned leaders. Supports special projects which may include team offsites, events, onboarding, and culture/team building programs. Handles distribution lists and organization charts. Arranges business travel and tracks expenses. May reconcile departmental budgets and invoices. Partners with Executive Assistants to synchronize and align on pivotal initiatives across leaders. Constructs and distributes reports upon request which may require working with other parts of the organization to gather information. Identifies key issues and patterns from partial/conflicting data. Takes a broad perspective to problems and identifies new less obvious solutions. Creates and reinforces open partnerships with leaders to help run an effective and efficient working team, keeping all members organized, advised, and on task. Maintains confidential information and proprietary reports. As requested, prepares communications including but not limited to e-mails, reports, presentations, agendas, and minutes. Distributes information to the broader team on the leaders' behalf. Ad hoc tasks as assigned based on the needs of the business.\\nQualifications/Requirements/Experience: 4-6 years of proven experience providing administrative support to multiple leaders, preferably at the VP level, in fast-paced remote global environments. Demonstrated ability to set and manage expectations. Excellent communication and interpersonal skills. Receptive to learning and adapting to new experiences. Ability to apply thoughtful judgment to complex situations. Dedication to confidentiality and discretion. Strong relationship building skills with the ability to maintain composure under pressure. Team   Marginally Suitable                                                                                          The candidate has strong communication and organizational skills, but lacks direct experience in administrative support roles.\n",
      "2  43383                      Recruiter (Swedish)                            https://remotive.com/remote-jobs/hr/recruiter-swedish-1752480  Worldwide                                                                                                                                                                                                                                                                                                                                                                                                                                                                                                                     Title: Recruiter Swedish\\nLocation: Worldwide\\nJob Objective: To find and attract top-notch candidates for various job roles and build lasting relationships with them.\\nResponsibilities/Key duties: \\n- Dive into various channels like job boards, social media, and networking to find and attract top-notch candidates.\\n- Conduct interviews, assess qualifications, and determine the perfect fit for specific job roles.\\n- Work closely with the Service Delivery Manager and Managing Director to ensure smooth recruitment processes for candidates.\\n- Maintain a steady pipeline of talented candidates for future opportunities.\\n- Coordinate interviews between candidates and hiring managers.\\n- Keep candidate profiles in the Applicant Tracking System (ATS) well-described and updated.\\nQualifications/Requirements/Experience: \\n- Proficient in Swedish and English spoken and written.\\n- Previous experience as a recruiter or in a similar role is a huge asset.\\n- Stellar communication and people skills.\\n- Ability to juggle multiple recruitment projects and work independently.\\n- Great time management, responsiveness, and organizational abilities.\\n- Knowledge of recruitment best practices and sourcing techniques is nice to have.\\n- Familiarity with ATS and recruitment software is a bonus.\\nPreferred Skills/Nice to Have: Familiarity with applicant tracking systems (ATS) and recruitment software.\\nAbout the company: David Kennedy Recruitment is a company that connects talented individuals with their dream jobs. They offer a commission-based structure for freelance recruiters and provide a collaborative and supportive team environment.\\nCompensation and Benefits: Enjoy a competitive always-on-time commission-based compensation structure. Embrace the freedom and flexibility of fully remote work from anywhere in the world and manage your own schedule. Enjoy the smoothness, fairness, and clarity of collaboration with David Kennedy Recruitment.          Not Suitable                                                                                                 The candidate does not have experience in recruitment and does not speak Swedish, which is a requirement for this role.\n",
      "3  43384                     Recruiter (Japanese)                           https://remotive.com/remote-jobs/hr/recruiter-japanese-1752481  Worldwide                                                                                                                                                                                                                                                                                                                                                                                                              Title: Recruiter Japanese\\nLocation: Worldwide\\nJob Objective: David Kennedy Recruitment is looking for a Japanese-speaking freelance recruiter to join their team. The role involves connecting talented individuals with their dream jobs and hiring in Japanese.\\nResponsibilities/Key duties: \\n- Utilize various channels like job boards, social media, and networking to find and attract top-notch candidates\\n- Conduct interviews, assess qualifications, and determine the perfect fit for specific job roles\\n- Work closely with the Service Delivery Manager and Managing Director to ensure smooth recruitment processes\\n- Maintain a pipeline of talented candidates for future opportunities and build lasting relationships with them\\n- Coordinate interviews between candidates and hiring managers\\n- Keep candidate profiles in the Applicant Tracking System (ATS) well-described and updated for future reference\\nQualifications/Requirements/Experience: \\n- Proficient in spoken and written Japanese and English\\n- Previous experience as a recruiter or in a similar role is preferred\\n- Stellar communication and people skills\\n- Ability to handle multiple recruitment projects and work independently\\n- Strong time management, responsiveness, and organizational abilities\\n- Knowledge of recruitment best practices and sourcing techniques is a plus\\n- Familiarity with ATS and recruitment software is a bonus\\nPreferred Skills/Nice to Have: Familiarity with applicant tracking systems (ATS) and recruitment software.\\nAbout the company: David Kennedy Recruitment is a collaborative and supportive team environment that focuses on connecting clients with exceptional talent in the Japanese-speaking market and beyond.\\nCompensation and Benefits: The role offers a commission-based structure, fully remote work from anywhere in the world, and the freedom to manage your own schedule. Enjoy a competitive compensation structure, the opportunity to work with diverse clients, and the smoothness, fairness, and clarity of collaboration with David Kennedy Recruitment.          Not Suitable                                                                                                The candidate does not have experience in recruitment and does not speak Japanese, which is a requirement for this role.\n"
     ]
    }
   ],
   "source": [
    "print(df_final_user)"
   ]
  },
  {
   "cell_type": "code",
   "execution_count": 7,
   "metadata": {},
   "outputs": [
    {
     "name": "stdout",
     "output_type": "stream",
     "text": [
      "<class 'pandas.core.frame.DataFrame'>\n",
      "RangeIndex: 4 entries, 0 to 3\n",
      "Data columns (total 7 columns):\n",
      " #   Column       Non-Null Count  Dtype \n",
      "---  ------       --------------  ----- \n",
      " 0   id           4 non-null      int64 \n",
      " 1   title        4 non-null      object\n",
      " 2   link         4 non-null      object\n",
      " 3   location     4 non-null      object\n",
      " 4   summary      4 non-null      object\n",
      " 5   suitability  4 non-null      object\n",
      " 6   explanation  4 non-null      object\n",
      "dtypes: int64(1), object(6)\n",
      "memory usage: 352.0+ bytes\n",
      "None\n"
     ]
    }
   ],
   "source": [
    "print(df_final_user.info())\n"
   ]
  },
  {
   "cell_type": "code",
   "execution_count": 6,
   "metadata": {},
   "outputs": [],
   "source": [
    "#delete all entries\n",
    "\n",
    "#df_e5.drop(df_e5.index, inplace=True)\n",
    "#df_e5.to_parquet('/Users/juanreyesgarcia/Library/CloudStorage/OneDrive-FundacionUniversidaddelasAmericasPuebla/DEVELOPER/PROJECTS/DreamedJobAI/data/e5_base_v2_data.parquet', engine='pyarrow')"
   ]
  },
  {
   "cell_type": "code",
   "execution_count": null,
   "metadata": {},
   "outputs": [],
   "source": []
  }
 ],
 "metadata": {
  "kernelspec": {
   "display_name": "Python 3 (ipykernel)",
   "language": "python",
   "name": "python3"
  },
  "language_info": {
   "codemirror_mode": {
    "name": "ipython",
    "version": 3
   },
   "file_extension": ".py",
   "mimetype": "text/x-python",
   "name": "python",
   "nbconvert_exporter": "python",
   "pygments_lexer": "ipython3",
   "version": "3.10.6"
  }
 },
 "nbformat": 4,
 "nbformat_minor": 2
}
