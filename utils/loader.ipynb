{
 "cells": [
  {
   "cell_type": "code",
   "execution_count": 4,
   "metadata": {},
   "outputs": [
    {
     "name": "stdout",
     "output_type": "stream",
     "text": [
      "Intel MKL WARNING: Support of Intel(R) Streaming SIMD Extensions 4.2 (Intel(R) SSE4.2) enabled only processors has been deprecated. Intel oneAPI Math Kernel Library 2025.0 will require Intel(R) Advanced Vector Extensions (Intel(R) AVX) instructions.\n",
      "Intel MKL WARNING: Support of Intel(R) Streaming SIMD Extensions 4.2 (Intel(R) SSE4.2) enabled only processors has been deprecated. Intel oneAPI Math Kernel Library 2025.0 will require Intel(R) Advanced Vector Extensions (Intel(R) AVX) instructions.\n"
     ]
    }
   ],
   "source": [
    "import pandas as pd\n",
    "import pyarrow as pa\n",
    "import pyarrow.parquet as pq"
   ]
  },
  {
   "cell_type": "code",
   "execution_count": 9,
   "metadata": {},
   "outputs": [],
   "source": [
    "e5_today = pd.read_parquet(\"/Users/juanreyesgarcia/Library/CloudStorage/OneDrive-FundacionUniversidaddelasAmericasPuebla/DEVELOPER/PROJECTS/DreamedJobAI/data/e5_base_today.parquet\")\n",
    "e5_preexisting = pd.read_parquet(\"/Users/juanreyesgarcia/Library/CloudStorage/OneDrive-FundacionUniversidaddelasAmericasPuebla/DEVELOPER/PROJECTS/DreamedJobAI/data/e5_base_preexisting.parquet\")\n",
    "e5_total = pd.read_parquet(\"/Users/juanreyesgarcia/Library/CloudStorage/OneDrive-FundacionUniversidaddelasAmericasPuebla/DEVELOPER/PROJECTS/DreamedJobAI/data/e5_base_total.parquet\")\n",
    "ada_today = pd.read_parquet(\"/Users/juanreyesgarcia/Library/CloudStorage/OneDrive-FundacionUniversidaddelasAmericasPuebla/DEVELOPER/PROJECTS/DreamedJobAI/data/openai_today.parquet\")\n",
    "ada_preexisting = pd.read_parquet(\"/Users/juanreyesgarcia/Library/CloudStorage/OneDrive-FundacionUniversidaddelasAmericasPuebla/DEVELOPER/PROJECTS/DreamedJobAI/data/openai_preexisting.parquet\")\n",
    "ada_total = pd.read_parquet(\"/Users/juanreyesgarcia/Library/CloudStorage/OneDrive-FundacionUniversidaddelasAmericasPuebla/DEVELOPER/PROJECTS/DreamedJobAI/data/openai_total.parquet\")"
   ]
  },
  {
   "cell_type": "code",
   "execution_count": 10,
   "metadata": {},
   "outputs": [
    {
     "name": "stdout",
     "output_type": "stream",
     "text": [
      "          ids                                          text_data  \\\n",
      "count     429                                                429   \n",
      "unique    429                                                402   \n",
      "top     44049  passage: Talent Enablement Manager Canada A na...   \n",
      "freq        1                                                  5   \n",
      "\n",
      "                                               embeddings  \n",
      "count                                                 429  \n",
      "unique                                                429  \n",
      "top     [0.0011792784789577127, -0.0062871999107301235...  \n",
      "freq                                                    1  \n"
     ]
    }
   ],
   "source": [
    "print(ada_today.describe())"
   ]
  },
  {
   "cell_type": "code",
   "execution_count": 11,
   "metadata": {},
   "outputs": [
    {
     "name": "stdout",
     "output_type": "stream",
     "text": [
      "          ids                                text_data  \\\n",
      "count    1314                                     1314   \n",
      "unique   1314                                     1213   \n",
      "top     39695  passage: Advertise your brand here  NaN   \n",
      "freq        1                                       46   \n",
      "\n",
      "                                               embeddings  \n",
      "count                                                1314  \n",
      "unique                                               1314  \n",
      "top     [-0.002746923826634884, -0.01700136810541153, ...  \n",
      "freq                                                    1  \n"
     ]
    }
   ],
   "source": [
    "print(ada_preexisting.describe())"
   ]
  },
  {
   "cell_type": "code",
   "execution_count": 12,
   "metadata": {},
   "outputs": [
    {
     "name": "stdout",
     "output_type": "stream",
     "text": [
      "          ids                                text_data  \\\n",
      "count    1743                                     1743   \n",
      "unique   1743                                     1614   \n",
      "top     44049  passage: Advertise your brand here  NaN   \n",
      "freq        1                                       46   \n",
      "\n",
      "                                               embeddings  \n",
      "count                                                1743  \n",
      "unique                                               1743  \n",
      "top     [0.0011792784789577127, -0.0062871999107301235...  \n",
      "freq                                                    1  \n"
     ]
    }
   ],
   "source": [
    "#print(df2.head())\n",
    "print(ada_total.describe())"
   ]
  },
  {
   "cell_type": "code",
   "execution_count": 7,
   "metadata": {},
   "outputs": [
    {
     "name": "stdout",
     "output_type": "stream",
     "text": [
      "Parquet file copied from /Users/juanreyesgarcia/Library/CloudStorage/OneDrive-FundacionUniversidaddelasAmericasPuebla/DEVELOPER/PROJECTS/DreamedJobAI/data/e5_base_v2_embeddings.parquet to /Users/juanreyesgarcia/Library/CloudStorage/OneDrive-FundacionUniversidaddelasAmericasPuebla/DEVELOPER/PROJECTS/DreamedJobAI/data/copy_e5_base.parquet\n"
     ]
    }
   ],
   "source": [
    "import shutil\n",
    "\n",
    "def copy_parquet_file(source_file, destination_file):\n",
    "    shutil.copy2(source_file, destination_file)\n",
    "    print(f\"Parquet file copied from {source_file} to {destination_file}\")\n",
    "\n",
    "# Example usage\n",
    "source_file = '/Users/juanreyesgarcia/Library/CloudStorage/OneDrive-FundacionUniversidaddelasAmericasPuebla/DEVELOPER/PROJECTS/DreamedJobAI/data/e5_base_v2_embeddings.parquet'\n",
    "destination_file = '/Users/juanreyesgarcia/Library/CloudStorage/OneDrive-FundacionUniversidaddelasAmericasPuebla/DEVELOPER/PROJECTS/DreamedJobAI/data/copy_e5_base.parquet'\n",
    "\n",
    "copy_parquet_file(source_file, destination_file)\n"
   ]
  },
  {
   "cell_type": "code",
   "execution_count": 10,
   "metadata": {},
   "outputs": [],
   "source": [
    "\n",
    "\n",
    "def append_parquet_files(file_x, file_y, output_file):\n",
    "    # Read the Parquet files\n",
    "    table_x = pq.read_table(file_x)\n",
    "    table_y = pq.read_table(file_y)\n",
    "    \n",
    "    # Append the tables\n",
    "    appended_table = pa.concat_tables([table_x, table_y])\n",
    "    \n",
    "    # Write the appended table to a new Parquet file\n",
    "    pq.write_table(appended_table, output_file)\n",
    "\n",
    "# Example usage\n",
    "file_x = '/Users/juanreyesgarcia/Library/CloudStorage/OneDrive-FundacionUniversidaddelasAmericasPuebla/DEVELOPER/PROJECTS/DreamedJobAI/data/test_e5_base.parquet'\n",
    "file_y = '/Users/juanreyesgarcia/Library/CloudStorage/OneDrive-FundacionUniversidaddelasAmericasPuebla/DEVELOPER/PROJECTS/DreamedJobAI/data/e5_base_v2_embeddings.parquet'\n",
    "output_file = '/Users/juanreyesgarcia/Library/CloudStorage/OneDrive-FundacionUniversidaddelasAmericasPuebla/DEVELOPER/PROJECTS/DreamedJobAI/data/e5_base_all.parquet'\n",
    "\n",
    "append_parquet_files(file_x, file_y, output_file)\n"
   ]
  }
 ],
 "metadata": {
  "kernelspec": {
   "display_name": "E5",
   "language": "python",
   "name": "python3"
  },
  "language_info": {
   "codemirror_mode": {
    "name": "ipython",
    "version": 3
   },
   "file_extension": ".py",
   "mimetype": "text/x-python",
   "name": "python",
   "nbconvert_exporter": "python",
   "pygments_lexer": "ipython3",
   "version": "3.11.3"
  },
  "orig_nbformat": 4
 },
 "nbformat": 4,
 "nbformat_minor": 2
}
